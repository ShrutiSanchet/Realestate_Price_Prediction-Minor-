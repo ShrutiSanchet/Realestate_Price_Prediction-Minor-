{
 "cells": [
  {
   "cell_type": "code",
   "execution_count": 10,
   "id": "e912134e",
   "metadata": {},
   "outputs": [],
   "source": [
    "import pandas as pd\n",
    "import numpy as np\n",
    "from matplotlib import pyplot as plt\n",
    "%matplotlib inline\n",
    "import matplotlib\n",
    "matplotlib.rcParams[\"figure.figsize\"]=(20,10)"
   ]
  },
  {
   "cell_type": "code",
   "execution_count": 11,
   "id": "bf614d8c",
   "metadata": {},
   "outputs": [],
   "source": [
    "df1 = pd.read_csv(r\"C:\\Users\\User\\Downloads\\archive (1)\\House Data_Pune.csv\")"
   ]
  },
  {
   "cell_type": "code",
   "execution_count": 12,
   "id": "14db592c",
   "metadata": {},
   "outputs": [
    {
     "data": {
      "text/html": [
       "<div>\n",
       "<style scoped>\n",
       "    .dataframe tbody tr th:only-of-type {\n",
       "        vertical-align: middle;\n",
       "    }\n",
       "\n",
       "    .dataframe tbody tr th {\n",
       "        vertical-align: top;\n",
       "    }\n",
       "\n",
       "    .dataframe thead th {\n",
       "        text-align: right;\n",
       "    }\n",
       "</style>\n",
       "<table border=\"1\" class=\"dataframe\">\n",
       "  <thead>\n",
       "    <tr style=\"text-align: right;\">\n",
       "      <th></th>\n",
       "      <th>area_type</th>\n",
       "      <th>location</th>\n",
       "      <th>Society</th>\n",
       "      <th>size</th>\n",
       "      <th>Baths</th>\n",
       "      <th>total_sqft</th>\n",
       "      <th>price</th>\n",
       "      <th>availability</th>\n",
       "      <th>Unnamed: 8</th>\n",
       "      <th>Unnamed: 9</th>\n",
       "    </tr>\n",
       "  </thead>\n",
       "  <tbody>\n",
       "    <tr>\n",
       "      <th>0</th>\n",
       "      <td>Super Built-up Area</td>\n",
       "      <td>Bavdhan</td>\n",
       "      <td>Satyam Shrey</td>\n",
       "      <td>2 bhk</td>\n",
       "      <td>2.0</td>\n",
       "      <td>640</td>\n",
       "      <td>55.96</td>\n",
       "      <td>Under construction</td>\n",
       "      <td>NaN</td>\n",
       "      <td>NaN</td>\n",
       "    </tr>\n",
       "    <tr>\n",
       "      <th>1</th>\n",
       "      <td>Built-up Area</td>\n",
       "      <td>Sus</td>\n",
       "      <td>Kiran Sanskriti</td>\n",
       "      <td>2 bhk</td>\n",
       "      <td>2.0</td>\n",
       "      <td>690-720</td>\n",
       "      <td>45.00</td>\n",
       "      <td>Under construction</td>\n",
       "      <td>NaN</td>\n",
       "      <td>NaN</td>\n",
       "    </tr>\n",
       "    <tr>\n",
       "      <th>2</th>\n",
       "      <td>Built-up Area</td>\n",
       "      <td>Tathawade</td>\n",
       "      <td>Vivanta</td>\n",
       "      <td>2 bhk</td>\n",
       "      <td>2.0</td>\n",
       "      <td>688-693</td>\n",
       "      <td>60.00</td>\n",
       "      <td>Under construction</td>\n",
       "      <td>NaN</td>\n",
       "      <td>NaN</td>\n",
       "    </tr>\n",
       "    <tr>\n",
       "      <th>3</th>\n",
       "      <td>Super Built-up Area</td>\n",
       "      <td>Koregaon Park</td>\n",
       "      <td>Sunit Anant</td>\n",
       "      <td>3 bhk</td>\n",
       "      <td>3.0</td>\n",
       "      <td>1659</td>\n",
       "      <td>210.00</td>\n",
       "      <td>Ready to move</td>\n",
       "      <td>NaN</td>\n",
       "      <td>NaN</td>\n",
       "    </tr>\n",
       "    <tr>\n",
       "      <th>4</th>\n",
       "      <td>Built-up Area</td>\n",
       "      <td>Sinhgad Road</td>\n",
       "      <td>Nanded city</td>\n",
       "      <td>3 bhk</td>\n",
       "      <td>3.0</td>\n",
       "      <td>1450</td>\n",
       "      <td>78.00</td>\n",
       "      <td>Ready to move</td>\n",
       "      <td>NaN</td>\n",
       "      <td>NaN</td>\n",
       "    </tr>\n",
       "  </tbody>\n",
       "</table>\n",
       "</div>"
      ],
      "text/plain": [
       "             area_type       location          Society   size  Baths  \\\n",
       "0  Super Built-up Area        Bavdhan     Satyam Shrey  2 bhk    2.0   \n",
       "1        Built-up Area            Sus  Kiran Sanskriti  2 bhk    2.0   \n",
       "2        Built-up Area      Tathawade          Vivanta  2 bhk    2.0   \n",
       "3  Super Built-up Area  Koregaon Park      Sunit Anant  3 bhk    3.0   \n",
       "4        Built-up Area   Sinhgad Road      Nanded city  3 bhk    3.0   \n",
       "\n",
       "  total_sqft   price        availability  Unnamed: 8 Unnamed: 9  \n",
       "0        640   55.96  Under construction         NaN        NaN  \n",
       "1   690-720    45.00  Under construction         NaN        NaN  \n",
       "2   688-693    60.00  Under construction         NaN        NaN  \n",
       "3       1659  210.00       Ready to move         NaN        NaN  \n",
       "4       1450   78.00       Ready to move         NaN        NaN  "
      ]
     },
     "execution_count": 12,
     "metadata": {},
     "output_type": "execute_result"
    }
   ],
   "source": [
    "df1.head()"
   ]
  },
  {
   "cell_type": "code",
   "execution_count": 13,
   "id": "99c83b2a",
   "metadata": {},
   "outputs": [
    {
     "data": {
      "text/plain": [
       "(1629, 10)"
      ]
     },
     "execution_count": 13,
     "metadata": {},
     "output_type": "execute_result"
    }
   ],
   "source": [
    "df1.shape"
   ]
  },
  {
   "cell_type": "code",
   "execution_count": 14,
   "id": "0fb24fee",
   "metadata": {},
   "outputs": [
    {
     "data": {
      "text/plain": [
       "Index(['area_type', 'location', 'Society', 'size', 'Baths', 'total_sqft',\n",
       "       'price', 'availability', 'Unnamed: 8', 'Unnamed: 9'],\n",
       "      dtype='object')"
      ]
     },
     "execution_count": 14,
     "metadata": {},
     "output_type": "execute_result"
    }
   ],
   "source": [
    "df1.columns"
   ]
  },
  {
   "cell_type": "code",
   "execution_count": 15,
   "id": "3132e161",
   "metadata": {},
   "outputs": [
    {
     "data": {
      "text/plain": [
       "array(['Super Built-up Area', 'Built-up Area', 'Plot Area', nan,\n",
       "       'Carpet Area', 'Built-up area', 'Villa', 'Built-up  Area',\n",
       "       'Super built-up  Area', 'Plot  Area'], dtype=object)"
      ]
     },
     "execution_count": 15,
     "metadata": {},
     "output_type": "execute_result"
    }
   ],
   "source": [
    "df1['area_type'].unique()"
   ]
  },
  {
   "cell_type": "code",
   "execution_count": 16,
   "id": "bde6071b",
   "metadata": {},
   "outputs": [
    {
     "data": {
      "text/plain": [
       "Super built-up  Area    193\n",
       "Built-up Area           175\n",
       "Super Built-up Area     152\n",
       "Built-up  Area           56\n",
       "Plot  Area               42\n",
       "Plot Area                21\n",
       "Built-up area             4\n",
       "Carpet Area               3\n",
       "Villa                     1\n",
       "Name: area_type, dtype: int64"
      ]
     },
     "execution_count": 16,
     "metadata": {},
     "output_type": "execute_result"
    }
   ],
   "source": [
    "df1['area_type'].value_counts()"
   ]
  },
  {
   "cell_type": "code",
   "execution_count": 17,
   "id": "7c04b9e1",
   "metadata": {},
   "outputs": [],
   "source": [
    "df2= df1.drop([\"area_type\",\"availability\",\"Unnamed: 8\",\"Unnamed: 9\"],axis=\"columns\")"
   ]
  },
  {
   "cell_type": "code",
   "execution_count": 18,
   "id": "4d45c26f",
   "metadata": {},
   "outputs": [
    {
     "data": {
      "text/html": [
       "<div>\n",
       "<style scoped>\n",
       "    .dataframe tbody tr th:only-of-type {\n",
       "        vertical-align: middle;\n",
       "    }\n",
       "\n",
       "    .dataframe tbody tr th {\n",
       "        vertical-align: top;\n",
       "    }\n",
       "\n",
       "    .dataframe thead th {\n",
       "        text-align: right;\n",
       "    }\n",
       "</style>\n",
       "<table border=\"1\" class=\"dataframe\">\n",
       "  <thead>\n",
       "    <tr style=\"text-align: right;\">\n",
       "      <th></th>\n",
       "      <th>location</th>\n",
       "      <th>Society</th>\n",
       "      <th>size</th>\n",
       "      <th>Baths</th>\n",
       "      <th>total_sqft</th>\n",
       "      <th>price</th>\n",
       "    </tr>\n",
       "  </thead>\n",
       "  <tbody>\n",
       "    <tr>\n",
       "      <th>0</th>\n",
       "      <td>Bavdhan</td>\n",
       "      <td>Satyam Shrey</td>\n",
       "      <td>2 bhk</td>\n",
       "      <td>2.0</td>\n",
       "      <td>640</td>\n",
       "      <td>55.96</td>\n",
       "    </tr>\n",
       "    <tr>\n",
       "      <th>1</th>\n",
       "      <td>Sus</td>\n",
       "      <td>Kiran Sanskriti</td>\n",
       "      <td>2 bhk</td>\n",
       "      <td>2.0</td>\n",
       "      <td>690-720</td>\n",
       "      <td>45.00</td>\n",
       "    </tr>\n",
       "    <tr>\n",
       "      <th>2</th>\n",
       "      <td>Tathawade</td>\n",
       "      <td>Vivanta</td>\n",
       "      <td>2 bhk</td>\n",
       "      <td>2.0</td>\n",
       "      <td>688-693</td>\n",
       "      <td>60.00</td>\n",
       "    </tr>\n",
       "    <tr>\n",
       "      <th>3</th>\n",
       "      <td>Koregaon Park</td>\n",
       "      <td>Sunit Anant</td>\n",
       "      <td>3 bhk</td>\n",
       "      <td>3.0</td>\n",
       "      <td>1659</td>\n",
       "      <td>210.00</td>\n",
       "    </tr>\n",
       "    <tr>\n",
       "      <th>4</th>\n",
       "      <td>Sinhgad Road</td>\n",
       "      <td>Nanded city</td>\n",
       "      <td>3 bhk</td>\n",
       "      <td>3.0</td>\n",
       "      <td>1450</td>\n",
       "      <td>78.00</td>\n",
       "    </tr>\n",
       "  </tbody>\n",
       "</table>\n",
       "</div>"
      ],
      "text/plain": [
       "        location          Society   size  Baths total_sqft   price\n",
       "0        Bavdhan     Satyam Shrey  2 bhk    2.0        640   55.96\n",
       "1            Sus  Kiran Sanskriti  2 bhk    2.0   690-720    45.00\n",
       "2      Tathawade          Vivanta  2 bhk    2.0   688-693    60.00\n",
       "3  Koregaon Park      Sunit Anant  3 bhk    3.0       1659  210.00\n",
       "4   Sinhgad Road      Nanded city  3 bhk    3.0       1450   78.00"
      ]
     },
     "execution_count": 18,
     "metadata": {},
     "output_type": "execute_result"
    }
   ],
   "source": [
    "df2.head()"
   ]
  },
  {
   "cell_type": "code",
   "execution_count": 19,
   "id": "b1a7dfa2",
   "metadata": {},
   "outputs": [
    {
     "data": {
      "text/plain": [
       "location         0\n",
       "Society       1332\n",
       "size             3\n",
       "Baths           13\n",
       "total_sqft       1\n",
       "price            0\n",
       "dtype: int64"
      ]
     },
     "execution_count": 19,
     "metadata": {},
     "output_type": "execute_result"
    }
   ],
   "source": [
    "df2.isnull().sum()"
   ]
  },
  {
   "cell_type": "code",
   "execution_count": 20,
   "id": "f8d50ed4",
   "metadata": {},
   "outputs": [
    {
     "data": {
      "text/plain": [
       "(1629, 6)"
      ]
     },
     "execution_count": 20,
     "metadata": {},
     "output_type": "execute_result"
    }
   ],
   "source": [
    "df2.shape"
   ]
  },
  {
   "cell_type": "code",
   "execution_count": 21,
   "id": "ecfa1fae",
   "metadata": {},
   "outputs": [
    {
     "data": {
      "text/plain": [
       "location      0\n",
       "Society       0\n",
       "size          0\n",
       "Baths         0\n",
       "total_sqft    0\n",
       "price         0\n",
       "dtype: int64"
      ]
     },
     "execution_count": 21,
     "metadata": {},
     "output_type": "execute_result"
    }
   ],
   "source": [
    "df3 = df2.dropna()\n",
    "df3.isnull().sum()"
   ]
  },
  {
   "cell_type": "code",
   "execution_count": 22,
   "id": "0661968c",
   "metadata": {},
   "outputs": [
    {
     "data": {
      "text/plain": [
       "(296, 6)"
      ]
     },
     "execution_count": 22,
     "metadata": {},
     "output_type": "execute_result"
    }
   ],
   "source": [
    "df3.shape"
   ]
  },
  {
   "cell_type": "code",
   "execution_count": 23,
   "id": "b8df69ae",
   "metadata": {},
   "outputs": [
    {
     "name": "stderr",
     "output_type": "stream",
     "text": [
      "C:\\Users\\User\\AppData\\Local\\Temp\\ipykernel_7416\\2716584372.py:1: SettingWithCopyWarning: \n",
      "A value is trying to be set on a copy of a slice from a DataFrame.\n",
      "Try using .loc[row_indexer,col_indexer] = value instead\n",
      "\n",
      "See the caveats in the documentation: https://pandas.pydata.org/pandas-docs/stable/user_guide/indexing.html#returning-a-view-versus-a-copy\n",
      "  df3['bhk'] = df3['size'].apply(lambda x: int(x.split(' ')[0]))\n"
     ]
    },
    {
     "data": {
      "text/plain": [
       "array([ 2,  3,  1,  4, 10,  6,  5,  8], dtype=int64)"
      ]
     },
     "execution_count": 23,
     "metadata": {},
     "output_type": "execute_result"
    }
   ],
   "source": [
    "df3['bhk'] = df3['size'].apply(lambda x: int(x.split(' ')[0]))\n",
    "df3.bhk.unique()"
   ]
  },
  {
   "cell_type": "code",
   "execution_count": 24,
   "id": "64af33b2",
   "metadata": {},
   "outputs": [],
   "source": [
    "def is_float(x):\n",
    "    try:\n",
    "        float(x)\n",
    "    except:\n",
    "        return False\n",
    "    return True"
   ]
  },
  {
   "cell_type": "code",
   "execution_count": 25,
   "id": "a24cc0c2",
   "metadata": {},
   "outputs": [
    {
     "data": {
      "text/html": [
       "<div>\n",
       "<style scoped>\n",
       "    .dataframe tbody tr th:only-of-type {\n",
       "        vertical-align: middle;\n",
       "    }\n",
       "\n",
       "    .dataframe tbody tr th {\n",
       "        vertical-align: top;\n",
       "    }\n",
       "\n",
       "    .dataframe thead th {\n",
       "        text-align: right;\n",
       "    }\n",
       "</style>\n",
       "<table border=\"1\" class=\"dataframe\">\n",
       "  <thead>\n",
       "    <tr style=\"text-align: right;\">\n",
       "      <th></th>\n",
       "      <th>location</th>\n",
       "      <th>Society</th>\n",
       "      <th>size</th>\n",
       "      <th>Baths</th>\n",
       "      <th>total_sqft</th>\n",
       "      <th>price</th>\n",
       "      <th>bhk</th>\n",
       "    </tr>\n",
       "  </thead>\n",
       "  <tbody>\n",
       "    <tr>\n",
       "      <th>1</th>\n",
       "      <td>Sus</td>\n",
       "      <td>Kiran Sanskriti</td>\n",
       "      <td>2 bhk</td>\n",
       "      <td>2.0</td>\n",
       "      <td>690-720</td>\n",
       "      <td>45.00</td>\n",
       "      <td>2</td>\n",
       "    </tr>\n",
       "    <tr>\n",
       "      <th>2</th>\n",
       "      <td>Tathawade</td>\n",
       "      <td>Vivanta</td>\n",
       "      <td>2 bhk</td>\n",
       "      <td>2.0</td>\n",
       "      <td>688-693</td>\n",
       "      <td>60.00</td>\n",
       "      <td>2</td>\n",
       "    </tr>\n",
       "    <tr>\n",
       "      <th>6</th>\n",
       "      <td>Bibwewadi</td>\n",
       "      <td>Sukhsagar Nagar</td>\n",
       "      <td>2 bhk</td>\n",
       "      <td>2.0</td>\n",
       "      <td>850-950</td>\n",
       "      <td>50.00</td>\n",
       "      <td>2</td>\n",
       "    </tr>\n",
       "    <tr>\n",
       "      <th>8</th>\n",
       "      <td>Dhankawadi</td>\n",
       "      <td>Ganga Altus</td>\n",
       "      <td>3 bhk</td>\n",
       "      <td>3.0</td>\n",
       "      <td>850-950</td>\n",
       "      <td>87.50</td>\n",
       "      <td>3</td>\n",
       "    </tr>\n",
       "    <tr>\n",
       "      <th>9</th>\n",
       "      <td>Dhankawadi</td>\n",
       "      <td>Ganga Altus</td>\n",
       "      <td>2 bhk</td>\n",
       "      <td>2.0</td>\n",
       "      <td>650-750</td>\n",
       "      <td>67.50</td>\n",
       "      <td>2</td>\n",
       "    </tr>\n",
       "    <tr>\n",
       "      <th>10</th>\n",
       "      <td>Hinjewadi</td>\n",
       "      <td>Rohan Ipsita</td>\n",
       "      <td>2 bhk</td>\n",
       "      <td>2.0</td>\n",
       "      <td>645-716</td>\n",
       "      <td>59.43</td>\n",
       "      <td>2</td>\n",
       "    </tr>\n",
       "    <tr>\n",
       "      <th>11</th>\n",
       "      <td>Hinjewadi</td>\n",
       "      <td>Rohan Ipsita</td>\n",
       "      <td>1 bhk</td>\n",
       "      <td>1.0</td>\n",
       "      <td>346-384</td>\n",
       "      <td>37.00</td>\n",
       "      <td>1</td>\n",
       "    </tr>\n",
       "    <tr>\n",
       "      <th>12</th>\n",
       "      <td>Moshi</td>\n",
       "      <td>Kasturi</td>\n",
       "      <td>2 bhk</td>\n",
       "      <td>2.0</td>\n",
       "      <td>627-628</td>\n",
       "      <td>72.00</td>\n",
       "      <td>2</td>\n",
       "    </tr>\n",
       "    <tr>\n",
       "      <th>13</th>\n",
       "      <td>Baner</td>\n",
       "      <td>Rachana</td>\n",
       "      <td>2 bhk</td>\n",
       "      <td>2.0</td>\n",
       "      <td>573-606</td>\n",
       "      <td>69.00</td>\n",
       "      <td>2</td>\n",
       "    </tr>\n",
       "    <tr>\n",
       "      <th>28</th>\n",
       "      <td>Bibwewadi</td>\n",
       "      <td>Pride Purple</td>\n",
       "      <td>2 bhk</td>\n",
       "      <td>2.0</td>\n",
       "      <td>865-1168</td>\n",
       "      <td>105.50</td>\n",
       "      <td>2</td>\n",
       "    </tr>\n",
       "  </tbody>\n",
       "</table>\n",
       "</div>"
      ],
      "text/plain": [
       "      location          Society   size  Baths total_sqft   price  bhk\n",
       "1          Sus  Kiran Sanskriti  2 bhk    2.0   690-720    45.00    2\n",
       "2    Tathawade          Vivanta  2 bhk    2.0   688-693    60.00    2\n",
       "6    Bibwewadi  Sukhsagar Nagar  2 bhk    2.0   850-950    50.00    2\n",
       "8   Dhankawadi      Ganga Altus  3 bhk    3.0   850-950    87.50    3\n",
       "9   Dhankawadi      Ganga Altus  2 bhk    2.0   650-750    67.50    2\n",
       "10   Hinjewadi     Rohan Ipsita  2 bhk    2.0   645-716    59.43    2\n",
       "11   Hinjewadi     Rohan Ipsita  1 bhk    1.0   346-384    37.00    1\n",
       "12       Moshi          Kasturi  2 bhk    2.0   627-628    72.00    2\n",
       "13       Baner          Rachana  2 bhk    2.0   573-606    69.00    2\n",
       "28   Bibwewadi     Pride Purple  2 bhk    2.0  865-1168   105.50    2"
      ]
     },
     "execution_count": 25,
     "metadata": {},
     "output_type": "execute_result"
    }
   ],
   "source": [
    "df3[~df3['total_sqft'].apply(is_float)].head(10)"
   ]
  },
  {
   "cell_type": "code",
   "execution_count": 26,
   "id": "3de11182",
   "metadata": {},
   "outputs": [],
   "source": [
    "def convert_sqft_to_num(x):\n",
    "    tokens = x.split('-')\n",
    "    if len(tokens) == 2:\n",
    "        return (float(tokens[0])+float(tokens[1]))/2\n",
    "    try:\n",
    "        return float(x)\n",
    "    except:\n",
    "        return None   "
   ]
  },
  {
   "cell_type": "code",
   "execution_count": 27,
   "id": "9a0b882a",
   "metadata": {},
   "outputs": [
    {
     "data": {
      "text/html": [
       "<div>\n",
       "<style scoped>\n",
       "    .dataframe tbody tr th:only-of-type {\n",
       "        vertical-align: middle;\n",
       "    }\n",
       "\n",
       "    .dataframe tbody tr th {\n",
       "        vertical-align: top;\n",
       "    }\n",
       "\n",
       "    .dataframe thead th {\n",
       "        text-align: right;\n",
       "    }\n",
       "</style>\n",
       "<table border=\"1\" class=\"dataframe\">\n",
       "  <thead>\n",
       "    <tr style=\"text-align: right;\">\n",
       "      <th></th>\n",
       "      <th>location</th>\n",
       "      <th>Society</th>\n",
       "      <th>size</th>\n",
       "      <th>Baths</th>\n",
       "      <th>total_sqft</th>\n",
       "      <th>price</th>\n",
       "      <th>bhk</th>\n",
       "    </tr>\n",
       "  </thead>\n",
       "  <tbody>\n",
       "    <tr>\n",
       "      <th>0</th>\n",
       "      <td>Bavdhan</td>\n",
       "      <td>Satyam Shrey</td>\n",
       "      <td>2 bhk</td>\n",
       "      <td>2.0</td>\n",
       "      <td>640.0</td>\n",
       "      <td>55.96</td>\n",
       "      <td>2</td>\n",
       "    </tr>\n",
       "    <tr>\n",
       "      <th>1</th>\n",
       "      <td>Sus</td>\n",
       "      <td>Kiran Sanskriti</td>\n",
       "      <td>2 bhk</td>\n",
       "      <td>2.0</td>\n",
       "      <td>705.0</td>\n",
       "      <td>45.00</td>\n",
       "      <td>2</td>\n",
       "    </tr>\n",
       "  </tbody>\n",
       "</table>\n",
       "</div>"
      ],
      "text/plain": [
       "  location          Society   size  Baths  total_sqft  price  bhk\n",
       "0  Bavdhan     Satyam Shrey  2 bhk    2.0       640.0  55.96    2\n",
       "1      Sus  Kiran Sanskriti  2 bhk    2.0       705.0  45.00    2"
      ]
     },
     "execution_count": 27,
     "metadata": {},
     "output_type": "execute_result"
    }
   ],
   "source": [
    "df4 = df3.copy()\n",
    "df4.total_sqft = df4.total_sqft.apply(convert_sqft_to_num)\n",
    "df4 = df4[df4.total_sqft.notnull()]\n",
    "df4.head(2)"
   ]
  },
  {
   "cell_type": "code",
   "execution_count": 28,
   "id": "780cfd07",
   "metadata": {},
   "outputs": [
    {
     "data": {
      "text/plain": [
       "location            Katraj\n",
       "Society       Shri Sadguru\n",
       "size                 2 bhk\n",
       "Baths                  2.0\n",
       "total_sqft           970.0\n",
       "price                 60.0\n",
       "bhk                      2\n",
       "Name: 30, dtype: object"
      ]
     },
     "execution_count": 28,
     "metadata": {},
     "output_type": "execute_result"
    }
   ],
   "source": [
    "df4.loc[30]"
   ]
  },
  {
   "cell_type": "code",
   "execution_count": 29,
   "id": "fa49fbdb",
   "metadata": {},
   "outputs": [
    {
     "data": {
      "text/html": [
       "<div>\n",
       "<style scoped>\n",
       "    .dataframe tbody tr th:only-of-type {\n",
       "        vertical-align: middle;\n",
       "    }\n",
       "\n",
       "    .dataframe tbody tr th {\n",
       "        vertical-align: top;\n",
       "    }\n",
       "\n",
       "    .dataframe thead th {\n",
       "        text-align: right;\n",
       "    }\n",
       "</style>\n",
       "<table border=\"1\" class=\"dataframe\">\n",
       "  <thead>\n",
       "    <tr style=\"text-align: right;\">\n",
       "      <th></th>\n",
       "      <th>location</th>\n",
       "      <th>Society</th>\n",
       "      <th>size</th>\n",
       "      <th>Baths</th>\n",
       "      <th>total_sqft</th>\n",
       "      <th>price</th>\n",
       "      <th>bhk</th>\n",
       "      <th>price_per_sqft</th>\n",
       "    </tr>\n",
       "  </thead>\n",
       "  <tbody>\n",
       "    <tr>\n",
       "      <th>0</th>\n",
       "      <td>Bavdhan</td>\n",
       "      <td>Satyam Shrey</td>\n",
       "      <td>2 bhk</td>\n",
       "      <td>2.0</td>\n",
       "      <td>640.0</td>\n",
       "      <td>55.96</td>\n",
       "      <td>2</td>\n",
       "      <td>8743.750000</td>\n",
       "    </tr>\n",
       "    <tr>\n",
       "      <th>1</th>\n",
       "      <td>Sus</td>\n",
       "      <td>Kiran Sanskriti</td>\n",
       "      <td>2 bhk</td>\n",
       "      <td>2.0</td>\n",
       "      <td>705.0</td>\n",
       "      <td>45.00</td>\n",
       "      <td>2</td>\n",
       "      <td>6382.978723</td>\n",
       "    </tr>\n",
       "    <tr>\n",
       "      <th>2</th>\n",
       "      <td>Tathawade</td>\n",
       "      <td>Vivanta</td>\n",
       "      <td>2 bhk</td>\n",
       "      <td>2.0</td>\n",
       "      <td>690.5</td>\n",
       "      <td>60.00</td>\n",
       "      <td>2</td>\n",
       "      <td>8689.355539</td>\n",
       "    </tr>\n",
       "    <tr>\n",
       "      <th>3</th>\n",
       "      <td>Koregaon Park</td>\n",
       "      <td>Sunit Anant</td>\n",
       "      <td>3 bhk</td>\n",
       "      <td>3.0</td>\n",
       "      <td>1659.0</td>\n",
       "      <td>210.00</td>\n",
       "      <td>3</td>\n",
       "      <td>12658.227848</td>\n",
       "    </tr>\n",
       "    <tr>\n",
       "      <th>4</th>\n",
       "      <td>Sinhgad Road</td>\n",
       "      <td>Nanded city</td>\n",
       "      <td>3 bhk</td>\n",
       "      <td>3.0</td>\n",
       "      <td>1450.0</td>\n",
       "      <td>78.00</td>\n",
       "      <td>3</td>\n",
       "      <td>5379.310345</td>\n",
       "    </tr>\n",
       "  </tbody>\n",
       "</table>\n",
       "</div>"
      ],
      "text/plain": [
       "        location          Society   size  Baths  total_sqft   price  bhk  \\\n",
       "0        Bavdhan     Satyam Shrey  2 bhk    2.0       640.0   55.96    2   \n",
       "1            Sus  Kiran Sanskriti  2 bhk    2.0       705.0   45.00    2   \n",
       "2      Tathawade          Vivanta  2 bhk    2.0       690.5   60.00    2   \n",
       "3  Koregaon Park      Sunit Anant  3 bhk    3.0      1659.0  210.00    3   \n",
       "4   Sinhgad Road      Nanded city  3 bhk    3.0      1450.0   78.00    3   \n",
       "\n",
       "   price_per_sqft  \n",
       "0     8743.750000  \n",
       "1     6382.978723  \n",
       "2     8689.355539  \n",
       "3    12658.227848  \n",
       "4     5379.310345  "
      ]
     },
     "execution_count": 29,
     "metadata": {},
     "output_type": "execute_result"
    }
   ],
   "source": [
    "df5 = df4.copy()\n",
    "df5['price_per_sqft'] = df5['price']*100000/df5['total_sqft']\n",
    "df5.head()"
   ]
  },
  {
   "cell_type": "code",
   "execution_count": 30,
   "id": "eb12e737",
   "metadata": {},
   "outputs": [
    {
     "data": {
      "text/plain": [
       "count      296.000000\n",
       "mean      8627.098905\n",
       "std       3901.393590\n",
       "min       2631.578947\n",
       "25%       6367.979155\n",
       "50%       8012.345679\n",
       "75%       9934.782609\n",
       "max      45849.802372\n",
       "Name: price_per_sqft, dtype: float64"
      ]
     },
     "execution_count": 30,
     "metadata": {},
     "output_type": "execute_result"
    }
   ],
   "source": [
    "df5_stats = df5['price_per_sqft'].describe()\n",
    "df5_stats"
   ]
  },
  {
   "cell_type": "code",
   "execution_count": 31,
   "id": "5eafe289",
   "metadata": {},
   "outputs": [],
   "source": [
    "df5.to_csv(\"bhp.csv\",index=False)"
   ]
  },
  {
   "cell_type": "code",
   "execution_count": 32,
   "id": "c44bf8ae",
   "metadata": {},
   "outputs": [
    {
     "data": {
      "text/plain": [
       "Bibwewadi            90\n",
       "Dhankawadi           70\n",
       "Katraj               39\n",
       "Hadapsar             21\n",
       "Koregaon Park        17\n",
       "Karve Nagar          16\n",
       "Sinhgad Road         16\n",
       "Padmavati             3\n",
       "Bavdhan               3\n",
       "Sus                   2\n",
       "Hinjewadi             2\n",
       "Meera nagar           2\n",
       "Amanora town          2\n",
       "Shivaji Nagar         2\n",
       "Ambegaon              2\n",
       "Baner                 1\n",
       "Moshi                 1\n",
       "Kanchan Nagari        1\n",
       "Samarth Nagar         1\n",
       "Mohan Nagar           1\n",
       "Tathawade             1\n",
       "Kondhwa               1\n",
       "Wakad                 1\n",
       "Vighnaharta Nagar     1\n",
       "Name: location, dtype: int64"
      ]
     },
     "execution_count": 32,
     "metadata": {},
     "output_type": "execute_result"
    }
   ],
   "source": [
    "df5.location = df5.location.apply(lambda x: x.strip())\n",
    "location_stats = df5['location'].value_counts(ascending=False)\n",
    "location_stats"
   ]
  },
  {
   "cell_type": "code",
   "execution_count": 33,
   "id": "2922d897",
   "metadata": {},
   "outputs": [
    {
     "data": {
      "text/plain": [
       "296"
      ]
     },
     "execution_count": 33,
     "metadata": {},
     "output_type": "execute_result"
    }
   ],
   "source": [
    "location_stats.values.sum()"
   ]
  },
  {
   "cell_type": "code",
   "execution_count": 34,
   "id": "b90cdeb6",
   "metadata": {},
   "outputs": [
    {
     "data": {
      "text/plain": [
       "7"
      ]
     },
     "execution_count": 34,
     "metadata": {},
     "output_type": "execute_result"
    }
   ],
   "source": [
    "len(location_stats[location_stats>10])"
   ]
  },
  {
   "cell_type": "code",
   "execution_count": 35,
   "id": "8523b745",
   "metadata": {},
   "outputs": [
    {
     "data": {
      "text/plain": [
       "24"
      ]
     },
     "execution_count": 35,
     "metadata": {},
     "output_type": "execute_result"
    }
   ],
   "source": [
    "len(location_stats)"
   ]
  },
  {
   "cell_type": "code",
   "execution_count": 36,
   "id": "67542118",
   "metadata": {},
   "outputs": [
    {
     "data": {
      "text/plain": [
       "17"
      ]
     },
     "execution_count": 36,
     "metadata": {},
     "output_type": "execute_result"
    }
   ],
   "source": [
    "len(location_stats[location_stats<=10])"
   ]
  },
  {
   "cell_type": "code",
   "execution_count": 37,
   "id": "87c933c4",
   "metadata": {},
   "outputs": [
    {
     "data": {
      "text/plain": [
       "Padmavati            3\n",
       "Bavdhan              3\n",
       "Sus                  2\n",
       "Hinjewadi            2\n",
       "Meera nagar          2\n",
       "Amanora town         2\n",
       "Shivaji Nagar        2\n",
       "Ambegaon             2\n",
       "Baner                1\n",
       "Moshi                1\n",
       "Kanchan Nagari       1\n",
       "Samarth Nagar        1\n",
       "Mohan Nagar          1\n",
       "Tathawade            1\n",
       "Kondhwa              1\n",
       "Wakad                1\n",
       "Vighnaharta Nagar    1\n",
       "Name: location, dtype: int64"
      ]
     },
     "execution_count": 37,
     "metadata": {},
     "output_type": "execute_result"
    }
   ],
   "source": [
    "location_stats_less_than_10 = location_stats[location_stats<=10]\n",
    "location_stats_less_than_10"
   ]
  },
  {
   "cell_type": "code",
   "execution_count": 38,
   "id": "42922232",
   "metadata": {},
   "outputs": [
    {
     "data": {
      "text/plain": [
       "24"
      ]
     },
     "execution_count": 38,
     "metadata": {},
     "output_type": "execute_result"
    }
   ],
   "source": [
    "len(df5.location.unique())\n"
   ]
  },
  {
   "cell_type": "code",
   "execution_count": 39,
   "id": "7d88c575",
   "metadata": {},
   "outputs": [
    {
     "data": {
      "text/plain": [
       "8"
      ]
     },
     "execution_count": 39,
     "metadata": {},
     "output_type": "execute_result"
    }
   ],
   "source": [
    "df5.location = df5.location.apply(lambda x: 'other' if x in location_stats_less_than_10 else x)\n",
    "len(df5.location.unique())"
   ]
  },
  {
   "cell_type": "code",
   "execution_count": 40,
   "id": "425d10cb",
   "metadata": {},
   "outputs": [
    {
     "data": {
      "text/html": [
       "<div>\n",
       "<style scoped>\n",
       "    .dataframe tbody tr th:only-of-type {\n",
       "        vertical-align: middle;\n",
       "    }\n",
       "\n",
       "    .dataframe tbody tr th {\n",
       "        vertical-align: top;\n",
       "    }\n",
       "\n",
       "    .dataframe thead th {\n",
       "        text-align: right;\n",
       "    }\n",
       "</style>\n",
       "<table border=\"1\" class=\"dataframe\">\n",
       "  <thead>\n",
       "    <tr style=\"text-align: right;\">\n",
       "      <th></th>\n",
       "      <th>location</th>\n",
       "      <th>Society</th>\n",
       "      <th>size</th>\n",
       "      <th>Baths</th>\n",
       "      <th>total_sqft</th>\n",
       "      <th>price</th>\n",
       "      <th>bhk</th>\n",
       "      <th>price_per_sqft</th>\n",
       "    </tr>\n",
       "  </thead>\n",
       "  <tbody>\n",
       "    <tr>\n",
       "      <th>0</th>\n",
       "      <td>other</td>\n",
       "      <td>Satyam Shrey</td>\n",
       "      <td>2 bhk</td>\n",
       "      <td>2.0</td>\n",
       "      <td>640.0</td>\n",
       "      <td>55.96</td>\n",
       "      <td>2</td>\n",
       "      <td>8743.750000</td>\n",
       "    </tr>\n",
       "    <tr>\n",
       "      <th>1</th>\n",
       "      <td>other</td>\n",
       "      <td>Kiran Sanskriti</td>\n",
       "      <td>2 bhk</td>\n",
       "      <td>2.0</td>\n",
       "      <td>705.0</td>\n",
       "      <td>45.00</td>\n",
       "      <td>2</td>\n",
       "      <td>6382.978723</td>\n",
       "    </tr>\n",
       "    <tr>\n",
       "      <th>2</th>\n",
       "      <td>other</td>\n",
       "      <td>Vivanta</td>\n",
       "      <td>2 bhk</td>\n",
       "      <td>2.0</td>\n",
       "      <td>690.5</td>\n",
       "      <td>60.00</td>\n",
       "      <td>2</td>\n",
       "      <td>8689.355539</td>\n",
       "    </tr>\n",
       "    <tr>\n",
       "      <th>3</th>\n",
       "      <td>Koregaon Park</td>\n",
       "      <td>Sunit Anant</td>\n",
       "      <td>3 bhk</td>\n",
       "      <td>3.0</td>\n",
       "      <td>1659.0</td>\n",
       "      <td>210.00</td>\n",
       "      <td>3</td>\n",
       "      <td>12658.227848</td>\n",
       "    </tr>\n",
       "    <tr>\n",
       "      <th>4</th>\n",
       "      <td>Sinhgad Road</td>\n",
       "      <td>Nanded city</td>\n",
       "      <td>3 bhk</td>\n",
       "      <td>3.0</td>\n",
       "      <td>1450.0</td>\n",
       "      <td>78.00</td>\n",
       "      <td>3</td>\n",
       "      <td>5379.310345</td>\n",
       "    </tr>\n",
       "    <tr>\n",
       "      <th>5</th>\n",
       "      <td>Koregaon Park</td>\n",
       "      <td>New Akshaya</td>\n",
       "      <td>2 bhk</td>\n",
       "      <td>2.0</td>\n",
       "      <td>1300.0</td>\n",
       "      <td>100.00</td>\n",
       "      <td>2</td>\n",
       "      <td>7692.307692</td>\n",
       "    </tr>\n",
       "    <tr>\n",
       "      <th>6</th>\n",
       "      <td>Bibwewadi</td>\n",
       "      <td>Sukhsagar Nagar</td>\n",
       "      <td>2 bhk</td>\n",
       "      <td>2.0</td>\n",
       "      <td>900.0</td>\n",
       "      <td>50.00</td>\n",
       "      <td>2</td>\n",
       "      <td>5555.555556</td>\n",
       "    </tr>\n",
       "    <tr>\n",
       "      <th>7</th>\n",
       "      <td>Koregaon Park</td>\n",
       "      <td>Tulip</td>\n",
       "      <td>2 bhk</td>\n",
       "      <td>2.0</td>\n",
       "      <td>1080.0</td>\n",
       "      <td>95.00</td>\n",
       "      <td>2</td>\n",
       "      <td>8796.296296</td>\n",
       "    </tr>\n",
       "    <tr>\n",
       "      <th>8</th>\n",
       "      <td>Dhankawadi</td>\n",
       "      <td>Ganga Altus</td>\n",
       "      <td>3 bhk</td>\n",
       "      <td>3.0</td>\n",
       "      <td>900.0</td>\n",
       "      <td>87.50</td>\n",
       "      <td>3</td>\n",
       "      <td>9722.222222</td>\n",
       "    </tr>\n",
       "    <tr>\n",
       "      <th>9</th>\n",
       "      <td>Dhankawadi</td>\n",
       "      <td>Ganga Altus</td>\n",
       "      <td>2 bhk</td>\n",
       "      <td>2.0</td>\n",
       "      <td>700.0</td>\n",
       "      <td>67.50</td>\n",
       "      <td>2</td>\n",
       "      <td>9642.857143</td>\n",
       "    </tr>\n",
       "  </tbody>\n",
       "</table>\n",
       "</div>"
      ],
      "text/plain": [
       "        location          Society   size  Baths  total_sqft   price  bhk  \\\n",
       "0          other     Satyam Shrey  2 bhk    2.0       640.0   55.96    2   \n",
       "1          other  Kiran Sanskriti  2 bhk    2.0       705.0   45.00    2   \n",
       "2          other          Vivanta  2 bhk    2.0       690.5   60.00    2   \n",
       "3  Koregaon Park      Sunit Anant  3 bhk    3.0      1659.0  210.00    3   \n",
       "4   Sinhgad Road      Nanded city  3 bhk    3.0      1450.0   78.00    3   \n",
       "5  Koregaon Park      New Akshaya  2 bhk    2.0      1300.0  100.00    2   \n",
       "6      Bibwewadi  Sukhsagar Nagar  2 bhk    2.0       900.0   50.00    2   \n",
       "7  Koregaon Park           Tulip   2 bhk    2.0      1080.0   95.00    2   \n",
       "8     Dhankawadi      Ganga Altus  3 bhk    3.0       900.0   87.50    3   \n",
       "9     Dhankawadi      Ganga Altus  2 bhk    2.0       700.0   67.50    2   \n",
       "\n",
       "   price_per_sqft  \n",
       "0     8743.750000  \n",
       "1     6382.978723  \n",
       "2     8689.355539  \n",
       "3    12658.227848  \n",
       "4     5379.310345  \n",
       "5     7692.307692  \n",
       "6     5555.555556  \n",
       "7     8796.296296  \n",
       "8     9722.222222  \n",
       "9     9642.857143  "
      ]
     },
     "execution_count": 40,
     "metadata": {},
     "output_type": "execute_result"
    }
   ],
   "source": [
    "df5.head(10)"
   ]
  },
  {
   "cell_type": "code",
   "execution_count": 41,
   "id": "e7543977",
   "metadata": {},
   "outputs": [
    {
     "data": {
      "text/html": [
       "<div>\n",
       "<style scoped>\n",
       "    .dataframe tbody tr th:only-of-type {\n",
       "        vertical-align: middle;\n",
       "    }\n",
       "\n",
       "    .dataframe tbody tr th {\n",
       "        vertical-align: top;\n",
       "    }\n",
       "\n",
       "    .dataframe thead th {\n",
       "        text-align: right;\n",
       "    }\n",
       "</style>\n",
       "<table border=\"1\" class=\"dataframe\">\n",
       "  <thead>\n",
       "    <tr style=\"text-align: right;\">\n",
       "      <th></th>\n",
       "      <th>location</th>\n",
       "      <th>Society</th>\n",
       "      <th>size</th>\n",
       "      <th>Baths</th>\n",
       "      <th>total_sqft</th>\n",
       "      <th>price</th>\n",
       "      <th>bhk</th>\n",
       "      <th>price_per_sqft</th>\n",
       "    </tr>\n",
       "  </thead>\n",
       "  <tbody>\n",
       "    <tr>\n",
       "      <th>13</th>\n",
       "      <td>other</td>\n",
       "      <td>Rachana</td>\n",
       "      <td>2 bhk</td>\n",
       "      <td>2.0</td>\n",
       "      <td>589.5</td>\n",
       "      <td>69.00</td>\n",
       "      <td>2</td>\n",
       "      <td>11704.834606</td>\n",
       "    </tr>\n",
       "    <tr>\n",
       "      <th>124</th>\n",
       "      <td>Sinhgad Road</td>\n",
       "      <td>Monte Rosa</td>\n",
       "      <td>2 bhk</td>\n",
       "      <td>2.0</td>\n",
       "      <td>253.0</td>\n",
       "      <td>116.00</td>\n",
       "      <td>2</td>\n",
       "      <td>45849.802372</td>\n",
       "    </tr>\n",
       "    <tr>\n",
       "      <th>224</th>\n",
       "      <td>Katraj</td>\n",
       "      <td>Shree Ganesh Vihar</td>\n",
       "      <td>1 rk</td>\n",
       "      <td>1.0</td>\n",
       "      <td>265.0</td>\n",
       "      <td>12.00</td>\n",
       "      <td>1</td>\n",
       "      <td>4528.301887</td>\n",
       "    </tr>\n",
       "    <tr>\n",
       "      <th>247</th>\n",
       "      <td>Hadapsar</td>\n",
       "      <td>Shapoorji annexe</td>\n",
       "      <td>3 bhk</td>\n",
       "      <td>3.0</td>\n",
       "      <td>820.0</td>\n",
       "      <td>70.02</td>\n",
       "      <td>3</td>\n",
       "      <td>8539.024390</td>\n",
       "    </tr>\n",
       "    <tr>\n",
       "      <th>262</th>\n",
       "      <td>Karve Nagar</td>\n",
       "      <td>Basera hsg soc</td>\n",
       "      <td>4 bhk</td>\n",
       "      <td>3.0</td>\n",
       "      <td>1000.0</td>\n",
       "      <td>130.00</td>\n",
       "      <td>4</td>\n",
       "      <td>13000.000000</td>\n",
       "    </tr>\n",
       "  </tbody>\n",
       "</table>\n",
       "</div>"
      ],
      "text/plain": [
       "         location             Society   size  Baths  total_sqft   price  bhk  \\\n",
       "13          other             Rachana  2 bhk    2.0       589.5   69.00    2   \n",
       "124  Sinhgad Road          Monte Rosa  2 bhk    2.0       253.0  116.00    2   \n",
       "224        Katraj  Shree Ganesh Vihar   1 rk    1.0       265.0   12.00    1   \n",
       "247      Hadapsar    Shapoorji annexe  3 bhk    3.0       820.0   70.02    3   \n",
       "262   Karve Nagar      Basera hsg soc  4 bhk    3.0      1000.0  130.00    4   \n",
       "\n",
       "     price_per_sqft  \n",
       "13     11704.834606  \n",
       "124    45849.802372  \n",
       "224     4528.301887  \n",
       "247     8539.024390  \n",
       "262    13000.000000  "
      ]
     },
     "execution_count": 41,
     "metadata": {},
     "output_type": "execute_result"
    }
   ],
   "source": [
    "df5[df5.total_sqft/df5.bhk<300].head()"
   ]
  },
  {
   "cell_type": "code",
   "execution_count": 42,
   "id": "b1908f77",
   "metadata": {},
   "outputs": [
    {
     "data": {
      "text/plain": [
       "(296, 8)"
      ]
     },
     "execution_count": 42,
     "metadata": {},
     "output_type": "execute_result"
    }
   ],
   "source": [
    "df5.shape"
   ]
  },
  {
   "cell_type": "code",
   "execution_count": 43,
   "id": "90b9d35f",
   "metadata": {},
   "outputs": [
    {
     "data": {
      "text/plain": [
       "(288, 8)"
      ]
     },
     "execution_count": 43,
     "metadata": {},
     "output_type": "execute_result"
    }
   ],
   "source": [
    "df6 = df5[~(df5.total_sqft/df5.bhk<300)]\n",
    "df6.shape"
   ]
  },
  {
   "cell_type": "code",
   "execution_count": 44,
   "id": "a848b006",
   "metadata": {},
   "outputs": [
    {
     "data": {
      "text/plain": [
       "count      288.000000\n",
       "mean      8516.922626\n",
       "std       3245.034199\n",
       "min       2631.578947\n",
       "25%       6379.590730\n",
       "50%       8012.345679\n",
       "75%       9894.927536\n",
       "max      30000.000000\n",
       "Name: price_per_sqft, dtype: float64"
      ]
     },
     "execution_count": 44,
     "metadata": {},
     "output_type": "execute_result"
    }
   ],
   "source": [
    "df6.price_per_sqft.describe()"
   ]
  },
  {
   "cell_type": "code",
   "execution_count": 45,
   "id": "bb7106cb",
   "metadata": {},
   "outputs": [
    {
     "data": {
      "text/plain": [
       "(211, 8)"
      ]
     },
     "execution_count": 45,
     "metadata": {},
     "output_type": "execute_result"
    }
   ],
   "source": [
    "def remove_pps_outliers(df):\n",
    "    df_out = pd.DataFrame()\n",
    "    for key, subdf in df.groupby('location'):\n",
    "        m = np.mean(subdf.price_per_sqft)\n",
    "        st = np.std(subdf.price_per_sqft)\n",
    "        reduced_df = subdf[(subdf.price_per_sqft>(m-st)) & (subdf.price_per_sqft<=(m+st))]\n",
    "        df_out = pd.concat([df_out,reduced_df],ignore_index=True)\n",
    "    return df_out\n",
    "df7 = remove_pps_outliers(df6)\n",
    "df7.shape"
   ]
  },
  {
   "cell_type": "code",
   "execution_count": 46,
   "id": "3a23763b",
   "metadata": {},
   "outputs": [
    {
     "data": {
      "image/png": "[encoded data removed]",
      "text/plain": [
       "<Figure size 1500x1000 with 1 Axes>"
      ]
     },
     "metadata": {},
     "output_type": "display_data"
    }
   ],
   "source": [
    "def plot_scatter_chart(df,location):\n",
    "    bhk2 = df[(df.location==location) & (df.bhk==2)]\n",
    "    bhk3 = df[(df.location==location) & (df.bhk==3)]\n",
    "    matplotlib.rcParams['figure.figsize'] = (15,10)\n",
    "    plt.scatter(bhk2.total_sqft,bhk2.price,color='blue',label='2 BHK', s=50)\n",
    "    plt.scatter(bhk3.total_sqft,bhk3.price,marker='+', color='green',label='3 BHK', s=50)\n",
    "    plt.xlabel(\"Total Square Feet Area\")\n",
    "    plt.ylabel(\"Price (Lakh Indian Rupees)\")\n",
    "    plt.title(location)\n",
    "    plt.legend()\n",
    "    \n",
    "plot_scatter_chart(df7,\"Katraj\")"
   ]
  },
  {
   "cell_type": "code",
   "execution_count": 47,
   "id": "21bbcef3",
   "metadata": {},
   "outputs": [
    {
     "data": {
      "image/png": "[encoded data removed]",
      "text/plain": [
       "<Figure size 1500x1000 with 1 Axes>"
      ]
     },
     "metadata": {},
     "output_type": "display_data"
    }
   ],
   "source": [
    "plot_scatter_chart(df7,\"Hadapsar\")"
   ]
  },
  {
   "cell_type": "code",
   "execution_count": 48,
   "id": "2eea8560",
   "metadata": {},
   "outputs": [
    {
     "data": {
      "text/plain": [
       "(179, 8)"
      ]
     },
     "execution_count": 48,
     "metadata": {},
     "output_type": "execute_result"
    }
   ],
   "source": [
    "def remove_bhk_outliers(df):\n",
    "    exclude_indices = np.array([])\n",
    "    for location, location_df in df.groupby('location'):\n",
    "        bhk_stats = {}\n",
    "        for bhk, bhk_df in location_df.groupby('bhk'):\n",
    "            bhk_stats[bhk] = {\n",
    "                'mean': np.mean(bhk_df.price_per_sqft),\n",
    "                'std': np.std(bhk_df.price_per_sqft),\n",
    "                'count': bhk_df.shape[0]\n",
    "            }\n",
    "        for bhk, bhk_df in location_df.groupby('bhk'):\n",
    "            stats = bhk_stats.get(bhk-1)\n",
    "            if stats and stats['count']>5:\n",
    "                exclude_indices = np.append(exclude_indices, bhk_df[bhk_df.price_per_sqft<(stats['mean'])].index.values)\n",
    "    return df.drop(exclude_indices,axis='index')\n",
    "df8 = remove_bhk_outliers(df7)\n",
    "# df8 = df7.copy()\n",
    "df8.shape"
   ]
  },
  {
   "cell_type": "code",
   "execution_count": 49,
   "id": "d4977c3d",
   "metadata": {},
   "outputs": [
    {
     "data": {
      "image/png": "[encoded data removed]",
      "text/plain": [
       "<Figure size 1500x1000 with 1 Axes>"
      ]
     },
     "metadata": {},
     "output_type": "display_data"
    }
   ],
   "source": [
    "plot_scatter_chart(df8,\"Katraj\")"
   ]
  },
  {
   "cell_type": "code",
   "execution_count": 50,
   "id": "c9c04235",
   "metadata": {},
   "outputs": [
    {
     "data": {
      "image/png": "[encoded data removed]",
      "text/plain": [
       "<Figure size 1500x1000 with 1 Axes>"
      ]
     },
     "metadata": {},
     "output_type": "display_data"
    }
   ],
   "source": [
    "plot_scatter_chart(df8,\"Hadapsar\")"
   ]
  },
  {
   "cell_type": "code",
   "execution_count": 51,
   "id": "073d4e4d",
   "metadata": {},
   "outputs": [
    {
     "data": {
      "text/plain": [
       "Text(0, 0.5, 'Count')"
      ]
     },
     "execution_count": 51,
     "metadata": {},
     "output_type": "execute_result"
    },
    {
     "data": {
      "image/png": "[encoded data removed]",
      "text/plain": [
       "<Figure size 2000x1000 with 1 Axes>"
      ]
     },
     "metadata": {},
     "output_type": "display_data"
    }
   ],
   "source": [
    "import matplotlib\n",
    "matplotlib.rcParams[\"figure.figsize\"] = (20,10)\n",
    "plt.hist(df8.price_per_sqft,rwidth=0.8)\n",
    "plt.xlabel(\"Price Per Square Feet\")\n",
    "plt.ylabel(\"Count\")"
   ]
  },
  {
   "cell_type": "code",
   "execution_count": 52,
   "id": "fb5cac97",
   "metadata": {},
   "outputs": [
    {
     "data": {
      "text/plain": [
       "array([2., 1., 3., 4., 5., 7.])"
      ]
     },
     "execution_count": 52,
     "metadata": {},
     "output_type": "execute_result"
    }
   ],
   "source": [
    "df8.Baths.unique()"
   ]
  },
  {
   "cell_type": "code",
   "execution_count": 53,
   "id": "41608d62",
   "metadata": {},
   "outputs": [
    {
     "data": {
      "text/plain": [
       "Text(0, 0.5, 'Count')"
      ]
     },
     "execution_count": 53,
     "metadata": {},
     "output_type": "execute_result"
    },
    {
     "data": {
      "image/png": "[encoded data removed]",
      "text/plain": [
       "<Figure size 2000x1000 with 1 Axes>"
      ]
     },
     "metadata": {},
     "output_type": "display_data"
    }
   ],
   "source": [
    "plt.hist(df8.Baths,rwidth=0.8)\n",
    "plt.xlabel(\"Number of bathrooms\")\n",
    "plt.ylabel(\"Count\")"
   ]
  },
  {
   "cell_type": "code",
   "execution_count": 54,
   "id": "92b561aa",
   "metadata": {},
   "outputs": [
    {
     "data": {
      "text/plain": [
       "(179, 8)"
      ]
     },
     "execution_count": 54,
     "metadata": {},
     "output_type": "execute_result"
    }
   ],
   "source": [
    "df9 = df8[df8.Baths<df8.bhk+2]\n",
    "df9.shape"
   ]
  },
  {
   "cell_type": "code",
   "execution_count": 55,
   "id": "02411f1b",
   "metadata": {},
   "outputs": [
    {
     "data": {
      "text/html": [
       "<div>\n",
       "<style scoped>\n",
       "    .dataframe tbody tr th:only-of-type {\n",
       "        vertical-align: middle;\n",
       "    }\n",
       "\n",
       "    .dataframe tbody tr th {\n",
       "        vertical-align: top;\n",
       "    }\n",
       "\n",
       "    .dataframe thead th {\n",
       "        text-align: right;\n",
       "    }\n",
       "</style>\n",
       "<table border=\"1\" class=\"dataframe\">\n",
       "  <thead>\n",
       "    <tr style=\"text-align: right;\">\n",
       "      <th></th>\n",
       "      <th>location</th>\n",
       "      <th>Society</th>\n",
       "      <th>size</th>\n",
       "      <th>Baths</th>\n",
       "      <th>total_sqft</th>\n",
       "      <th>price</th>\n",
       "      <th>bhk</th>\n",
       "      <th>price_per_sqft</th>\n",
       "    </tr>\n",
       "  </thead>\n",
       "  <tbody>\n",
       "    <tr>\n",
       "      <th>0</th>\n",
       "      <td>Bibwewadi</td>\n",
       "      <td>Laketown</td>\n",
       "      <td>2 bhk</td>\n",
       "      <td>2.0</td>\n",
       "      <td>1050.0</td>\n",
       "      <td>102.0</td>\n",
       "      <td>2</td>\n",
       "      <td>9714.285714</td>\n",
       "    </tr>\n",
       "    <tr>\n",
       "      <th>1</th>\n",
       "      <td>Bibwewadi</td>\n",
       "      <td>Pride Purple</td>\n",
       "      <td>2 bhk</td>\n",
       "      <td>2.0</td>\n",
       "      <td>1016.5</td>\n",
       "      <td>105.5</td>\n",
       "      <td>2</td>\n",
       "      <td>10378.750615</td>\n",
       "    </tr>\n",
       "  </tbody>\n",
       "</table>\n",
       "</div>"
      ],
      "text/plain": [
       "    location       Society   size  Baths  total_sqft  price  bhk  \\\n",
       "0  Bibwewadi      Laketown  2 bhk    2.0      1050.0  102.0    2   \n",
       "1  Bibwewadi  Pride Purple  2 bhk    2.0      1016.5  105.5    2   \n",
       "\n",
       "   price_per_sqft  \n",
       "0     9714.285714  \n",
       "1    10378.750615  "
      ]
     },
     "execution_count": 55,
     "metadata": {},
     "output_type": "execute_result"
    }
   ],
   "source": [
    "df9.head(2)"
   ]
  },
  {
   "cell_type": "code",
   "execution_count": 56,
   "id": "b098d0f4",
   "metadata": {},
   "outputs": [
    {
     "data": {
      "text/html": [
       "<div>\n",
       "<style scoped>\n",
       "    .dataframe tbody tr th:only-of-type {\n",
       "        vertical-align: middle;\n",
       "    }\n",
       "\n",
       "    .dataframe tbody tr th {\n",
       "        vertical-align: top;\n",
       "    }\n",
       "\n",
       "    .dataframe thead th {\n",
       "        text-align: right;\n",
       "    }\n",
       "</style>\n",
       "<table border=\"1\" class=\"dataframe\">\n",
       "  <thead>\n",
       "    <tr style=\"text-align: right;\">\n",
       "      <th></th>\n",
       "      <th>location</th>\n",
       "      <th>Society</th>\n",
       "      <th>Baths</th>\n",
       "      <th>total_sqft</th>\n",
       "      <th>price</th>\n",
       "      <th>bhk</th>\n",
       "    </tr>\n",
       "  </thead>\n",
       "  <tbody>\n",
       "    <tr>\n",
       "      <th>0</th>\n",
       "      <td>Bibwewadi</td>\n",
       "      <td>Laketown</td>\n",
       "      <td>2.0</td>\n",
       "      <td>1050.0</td>\n",
       "      <td>102.0</td>\n",
       "      <td>2</td>\n",
       "    </tr>\n",
       "    <tr>\n",
       "      <th>1</th>\n",
       "      <td>Bibwewadi</td>\n",
       "      <td>Pride Purple</td>\n",
       "      <td>2.0</td>\n",
       "      <td>1016.5</td>\n",
       "      <td>105.5</td>\n",
       "      <td>2</td>\n",
       "    </tr>\n",
       "    <tr>\n",
       "      <th>2</th>\n",
       "      <td>Bibwewadi</td>\n",
       "      <td>Mahesh Society</td>\n",
       "      <td>1.0</td>\n",
       "      <td>350.0</td>\n",
       "      <td>25.0</td>\n",
       "      <td>1</td>\n",
       "    </tr>\n",
       "  </tbody>\n",
       "</table>\n",
       "</div>"
      ],
      "text/plain": [
       "    location         Society  Baths  total_sqft  price  bhk\n",
       "0  Bibwewadi        Laketown    2.0      1050.0  102.0    2\n",
       "1  Bibwewadi    Pride Purple    2.0      1016.5  105.5    2\n",
       "2  Bibwewadi  Mahesh Society    1.0       350.0   25.0    1"
      ]
     },
     "execution_count": 56,
     "metadata": {},
     "output_type": "execute_result"
    }
   ],
   "source": [
    "df10 = df9.drop(['size','price_per_sqft'],axis='columns')\n",
    "df10.head(3)"
   ]
  },
  {
   "cell_type": "code",
   "execution_count": 57,
   "id": "8cf96a25",
   "metadata": {},
   "outputs": [
    {
     "data": {
      "text/html": [
       "<div>\n",
       "<style scoped>\n",
       "    .dataframe tbody tr th:only-of-type {\n",
       "        vertical-align: middle;\n",
       "    }\n",
       "\n",
       "    .dataframe tbody tr th {\n",
       "        vertical-align: top;\n",
       "    }\n",
       "\n",
       "    .dataframe thead th {\n",
       "        text-align: right;\n",
       "    }\n",
       "</style>\n",
       "<table border=\"1\" class=\"dataframe\">\n",
       "  <thead>\n",
       "    <tr style=\"text-align: right;\">\n",
       "      <th></th>\n",
       "      <th>Bibwewadi</th>\n",
       "      <th>Dhankawadi</th>\n",
       "      <th>Hadapsar</th>\n",
       "      <th>Karve Nagar</th>\n",
       "      <th>Katraj</th>\n",
       "      <th>Koregaon Park</th>\n",
       "      <th>Sinhgad Road</th>\n",
       "      <th>other</th>\n",
       "    </tr>\n",
       "  </thead>\n",
       "  <tbody>\n",
       "    <tr>\n",
       "      <th>0</th>\n",
       "      <td>1</td>\n",
       "      <td>0</td>\n",
       "      <td>0</td>\n",
       "      <td>0</td>\n",
       "      <td>0</td>\n",
       "      <td>0</td>\n",
       "      <td>0</td>\n",
       "      <td>0</td>\n",
       "    </tr>\n",
       "    <tr>\n",
       "      <th>1</th>\n",
       "      <td>1</td>\n",
       "      <td>0</td>\n",
       "      <td>0</td>\n",
       "      <td>0</td>\n",
       "      <td>0</td>\n",
       "      <td>0</td>\n",
       "      <td>0</td>\n",
       "      <td>0</td>\n",
       "    </tr>\n",
       "    <tr>\n",
       "      <th>2</th>\n",
       "      <td>1</td>\n",
       "      <td>0</td>\n",
       "      <td>0</td>\n",
       "      <td>0</td>\n",
       "      <td>0</td>\n",
       "      <td>0</td>\n",
       "      <td>0</td>\n",
       "      <td>0</td>\n",
       "    </tr>\n",
       "  </tbody>\n",
       "</table>\n",
       "</div>"
      ],
      "text/plain": [
       "   Bibwewadi  Dhankawadi  Hadapsar  Karve Nagar  Katraj  Koregaon Park  \\\n",
       "0          1           0         0            0       0              0   \n",
       "1          1           0         0            0       0              0   \n",
       "2          1           0         0            0       0              0   \n",
       "\n",
       "   Sinhgad Road  other  \n",
       "0             0      0  \n",
       "1             0      0  \n",
       "2             0      0  "
      ]
     },
     "execution_count": 57,
     "metadata": {},
     "output_type": "execute_result"
    }
   ],
   "source": [
    "dummies = pd.get_dummies(df10.location)\n",
    "dummies.head(3)"
   ]
  },
  {
   "cell_type": "code",
   "execution_count": 58,
   "id": "d4d2af9c",
   "metadata": {},
   "outputs": [
    {
     "data": {
      "text/html": [
       "<div>\n",
       "<style scoped>\n",
       "    .dataframe tbody tr th:only-of-type {\n",
       "        vertical-align: middle;\n",
       "    }\n",
       "\n",
       "    .dataframe tbody tr th {\n",
       "        vertical-align: top;\n",
       "    }\n",
       "\n",
       "    .dataframe thead th {\n",
       "        text-align: right;\n",
       "    }\n",
       "</style>\n",
       "<table border=\"1\" class=\"dataframe\">\n",
       "  <thead>\n",
       "    <tr style=\"text-align: right;\">\n",
       "      <th></th>\n",
       "      <th>location</th>\n",
       "      <th>Society</th>\n",
       "      <th>Baths</th>\n",
       "      <th>total_sqft</th>\n",
       "      <th>price</th>\n",
       "      <th>bhk</th>\n",
       "      <th>Bibwewadi</th>\n",
       "      <th>Dhankawadi</th>\n",
       "      <th>Hadapsar</th>\n",
       "      <th>Karve Nagar</th>\n",
       "      <th>Katraj</th>\n",
       "      <th>Koregaon Park</th>\n",
       "      <th>Sinhgad Road</th>\n",
       "    </tr>\n",
       "  </thead>\n",
       "  <tbody>\n",
       "    <tr>\n",
       "      <th>0</th>\n",
       "      <td>Bibwewadi</td>\n",
       "      <td>Laketown</td>\n",
       "      <td>2.0</td>\n",
       "      <td>1050.0</td>\n",
       "      <td>102.0</td>\n",
       "      <td>2</td>\n",
       "      <td>1</td>\n",
       "      <td>0</td>\n",
       "      <td>0</td>\n",
       "      <td>0</td>\n",
       "      <td>0</td>\n",
       "      <td>0</td>\n",
       "      <td>0</td>\n",
       "    </tr>\n",
       "    <tr>\n",
       "      <th>1</th>\n",
       "      <td>Bibwewadi</td>\n",
       "      <td>Pride Purple</td>\n",
       "      <td>2.0</td>\n",
       "      <td>1016.5</td>\n",
       "      <td>105.5</td>\n",
       "      <td>2</td>\n",
       "      <td>1</td>\n",
       "      <td>0</td>\n",
       "      <td>0</td>\n",
       "      <td>0</td>\n",
       "      <td>0</td>\n",
       "      <td>0</td>\n",
       "      <td>0</td>\n",
       "    </tr>\n",
       "    <tr>\n",
       "      <th>2</th>\n",
       "      <td>Bibwewadi</td>\n",
       "      <td>Mahesh Society</td>\n",
       "      <td>1.0</td>\n",
       "      <td>350.0</td>\n",
       "      <td>25.0</td>\n",
       "      <td>1</td>\n",
       "      <td>1</td>\n",
       "      <td>0</td>\n",
       "      <td>0</td>\n",
       "      <td>0</td>\n",
       "      <td>0</td>\n",
       "      <td>0</td>\n",
       "      <td>0</td>\n",
       "    </tr>\n",
       "    <tr>\n",
       "      <th>3</th>\n",
       "      <td>Bibwewadi</td>\n",
       "      <td>Mahesh Society</td>\n",
       "      <td>1.0</td>\n",
       "      <td>550.0</td>\n",
       "      <td>38.0</td>\n",
       "      <td>1</td>\n",
       "      <td>1</td>\n",
       "      <td>0</td>\n",
       "      <td>0</td>\n",
       "      <td>0</td>\n",
       "      <td>0</td>\n",
       "      <td>0</td>\n",
       "      <td>0</td>\n",
       "    </tr>\n",
       "    <tr>\n",
       "      <th>5</th>\n",
       "      <td>Bibwewadi</td>\n",
       "      <td>Chintamani</td>\n",
       "      <td>1.0</td>\n",
       "      <td>460.0</td>\n",
       "      <td>35.0</td>\n",
       "      <td>1</td>\n",
       "      <td>1</td>\n",
       "      <td>0</td>\n",
       "      <td>0</td>\n",
       "      <td>0</td>\n",
       "      <td>0</td>\n",
       "      <td>0</td>\n",
       "      <td>0</td>\n",
       "    </tr>\n",
       "  </tbody>\n",
       "</table>\n",
       "</div>"
      ],
      "text/plain": [
       "    location         Society  Baths  total_sqft  price  bhk  Bibwewadi  \\\n",
       "0  Bibwewadi        Laketown    2.0      1050.0  102.0    2          1   \n",
       "1  Bibwewadi    Pride Purple    2.0      1016.5  105.5    2          1   \n",
       "2  Bibwewadi  Mahesh Society    1.0       350.0   25.0    1          1   \n",
       "3  Bibwewadi  Mahesh Society    1.0       550.0   38.0    1          1   \n",
       "5  Bibwewadi      Chintamani    1.0       460.0   35.0    1          1   \n",
       "\n",
       "   Dhankawadi  Hadapsar  Karve Nagar  Katraj  Koregaon Park  Sinhgad Road  \n",
       "0           0         0            0       0              0             0  \n",
       "1           0         0            0       0              0             0  \n",
       "2           0         0            0       0              0             0  \n",
       "3           0         0            0       0              0             0  \n",
       "5           0         0            0       0              0             0  "
      ]
     },
     "execution_count": 58,
     "metadata": {},
     "output_type": "execute_result"
    }
   ],
   "source": [
    "df11 = pd.concat([df10,dummies.drop('other',axis='columns')],axis='columns')\n",
    "df11.head()"
   ]
  },
  {
   "cell_type": "code",
   "execution_count": 59,
   "id": "8534e0b9",
   "metadata": {},
   "outputs": [
    {
     "data": {
      "text/html": [
       "<div>\n",
       "<style scoped>\n",
       "    .dataframe tbody tr th:only-of-type {\n",
       "        vertical-align: middle;\n",
       "    }\n",
       "\n",
       "    .dataframe tbody tr th {\n",
       "        vertical-align: top;\n",
       "    }\n",
       "\n",
       "    .dataframe thead th {\n",
       "        text-align: right;\n",
       "    }\n",
       "</style>\n",
       "<table border=\"1\" class=\"dataframe\">\n",
       "  <thead>\n",
       "    <tr style=\"text-align: right;\">\n",
       "      <th></th>\n",
       "      <th>Society</th>\n",
       "      <th>Baths</th>\n",
       "      <th>total_sqft</th>\n",
       "      <th>price</th>\n",
       "      <th>bhk</th>\n",
       "      <th>Bibwewadi</th>\n",
       "      <th>Dhankawadi</th>\n",
       "      <th>Hadapsar</th>\n",
       "      <th>Karve Nagar</th>\n",
       "      <th>Katraj</th>\n",
       "      <th>Koregaon Park</th>\n",
       "      <th>Sinhgad Road</th>\n",
       "    </tr>\n",
       "  </thead>\n",
       "  <tbody>\n",
       "    <tr>\n",
       "      <th>0</th>\n",
       "      <td>Laketown</td>\n",
       "      <td>2.0</td>\n",
       "      <td>1050.0</td>\n",
       "      <td>102.0</td>\n",
       "      <td>2</td>\n",
       "      <td>1</td>\n",
       "      <td>0</td>\n",
       "      <td>0</td>\n",
       "      <td>0</td>\n",
       "      <td>0</td>\n",
       "      <td>0</td>\n",
       "      <td>0</td>\n",
       "    </tr>\n",
       "    <tr>\n",
       "      <th>1</th>\n",
       "      <td>Pride Purple</td>\n",
       "      <td>2.0</td>\n",
       "      <td>1016.5</td>\n",
       "      <td>105.5</td>\n",
       "      <td>2</td>\n",
       "      <td>1</td>\n",
       "      <td>0</td>\n",
       "      <td>0</td>\n",
       "      <td>0</td>\n",
       "      <td>0</td>\n",
       "      <td>0</td>\n",
       "      <td>0</td>\n",
       "    </tr>\n",
       "  </tbody>\n",
       "</table>\n",
       "</div>"
      ],
      "text/plain": [
       "        Society  Baths  total_sqft  price  bhk  Bibwewadi  Dhankawadi  \\\n",
       "0      Laketown    2.0      1050.0  102.0    2          1           0   \n",
       "1  Pride Purple    2.0      1016.5  105.5    2          1           0   \n",
       "\n",
       "   Hadapsar  Karve Nagar  Katraj  Koregaon Park  Sinhgad Road  \n",
       "0         0            0       0              0             0  \n",
       "1         0            0       0              0             0  "
      ]
     },
     "execution_count": 59,
     "metadata": {},
     "output_type": "execute_result"
    }
   ],
   "source": [
    "df12 = df11.drop('location',axis='columns')\n",
    "df12.head(2)"
   ]
  },
  {
   "cell_type": "code",
   "execution_count": 60,
   "id": "2ee6934b",
   "metadata": {},
   "outputs": [
    {
     "data": {
      "text/plain": [
       "(179, 12)"
      ]
     },
     "execution_count": 60,
     "metadata": {},
     "output_type": "execute_result"
    }
   ],
   "source": [
    "df12.shape"
   ]
  },
  {
   "cell_type": "code",
   "execution_count": 61,
   "id": "1fbb57d8",
   "metadata": {},
   "outputs": [
    {
     "data": {
      "text/html": [
       "<div>\n",
       "<style scoped>\n",
       "    .dataframe tbody tr th:only-of-type {\n",
       "        vertical-align: middle;\n",
       "    }\n",
       "\n",
       "    .dataframe tbody tr th {\n",
       "        vertical-align: top;\n",
       "    }\n",
       "\n",
       "    .dataframe thead th {\n",
       "        text-align: right;\n",
       "    }\n",
       "</style>\n",
       "<table border=\"1\" class=\"dataframe\">\n",
       "  <thead>\n",
       "    <tr style=\"text-align: right;\">\n",
       "      <th></th>\n",
       "      <th>Baths</th>\n",
       "      <th>total_sqft</th>\n",
       "      <th>bhk</th>\n",
       "      <th>Bibwewadi</th>\n",
       "      <th>Dhankawadi</th>\n",
       "      <th>Hadapsar</th>\n",
       "      <th>Karve Nagar</th>\n",
       "      <th>Katraj</th>\n",
       "      <th>Koregaon Park</th>\n",
       "      <th>Sinhgad Road</th>\n",
       "    </tr>\n",
       "  </thead>\n",
       "  <tbody>\n",
       "    <tr>\n",
       "      <th>0</th>\n",
       "      <td>2.0</td>\n",
       "      <td>1050.0</td>\n",
       "      <td>2</td>\n",
       "      <td>1</td>\n",
       "      <td>0</td>\n",
       "      <td>0</td>\n",
       "      <td>0</td>\n",
       "      <td>0</td>\n",
       "      <td>0</td>\n",
       "      <td>0</td>\n",
       "    </tr>\n",
       "    <tr>\n",
       "      <th>1</th>\n",
       "      <td>2.0</td>\n",
       "      <td>1016.5</td>\n",
       "      <td>2</td>\n",
       "      <td>1</td>\n",
       "      <td>0</td>\n",
       "      <td>0</td>\n",
       "      <td>0</td>\n",
       "      <td>0</td>\n",
       "      <td>0</td>\n",
       "      <td>0</td>\n",
       "    </tr>\n",
       "    <tr>\n",
       "      <th>2</th>\n",
       "      <td>1.0</td>\n",
       "      <td>350.0</td>\n",
       "      <td>1</td>\n",
       "      <td>1</td>\n",
       "      <td>0</td>\n",
       "      <td>0</td>\n",
       "      <td>0</td>\n",
       "      <td>0</td>\n",
       "      <td>0</td>\n",
       "      <td>0</td>\n",
       "    </tr>\n",
       "    <tr>\n",
       "      <th>3</th>\n",
       "      <td>1.0</td>\n",
       "      <td>550.0</td>\n",
       "      <td>1</td>\n",
       "      <td>1</td>\n",
       "      <td>0</td>\n",
       "      <td>0</td>\n",
       "      <td>0</td>\n",
       "      <td>0</td>\n",
       "      <td>0</td>\n",
       "      <td>0</td>\n",
       "    </tr>\n",
       "    <tr>\n",
       "      <th>5</th>\n",
       "      <td>1.0</td>\n",
       "      <td>460.0</td>\n",
       "      <td>1</td>\n",
       "      <td>1</td>\n",
       "      <td>0</td>\n",
       "      <td>0</td>\n",
       "      <td>0</td>\n",
       "      <td>0</td>\n",
       "      <td>0</td>\n",
       "      <td>0</td>\n",
       "    </tr>\n",
       "  </tbody>\n",
       "</table>\n",
       "</div>"
      ],
      "text/plain": [
       "   Baths  total_sqft  bhk  Bibwewadi  Dhankawadi  Hadapsar  Karve Nagar  \\\n",
       "0    2.0      1050.0    2          1           0         0            0   \n",
       "1    2.0      1016.5    2          1           0         0            0   \n",
       "2    1.0       350.0    1          1           0         0            0   \n",
       "3    1.0       550.0    1          1           0         0            0   \n",
       "5    1.0       460.0    1          1           0         0            0   \n",
       "\n",
       "   Katraj  Koregaon Park  Sinhgad Road  \n",
       "0       0              0             0  \n",
       "1       0              0             0  \n",
       "2       0              0             0  \n",
       "3       0              0             0  \n",
       "5       0              0             0  "
      ]
     },
     "execution_count": 61,
     "metadata": {},
     "output_type": "execute_result"
    }
   ],
   "source": [
    "X = df12.drop(['price','Society'],axis='columns')\n",
    "X.head()"
   ]
  },
  {
   "cell_type": "code",
   "execution_count": 62,
   "id": "c38eb4cf",
   "metadata": {},
   "outputs": [
    {
     "data": {
      "text/plain": [
       "(179, 10)"
      ]
     },
     "execution_count": 62,
     "metadata": {},
     "output_type": "execute_result"
    }
   ],
   "source": [
    "X.shape"
   ]
  },
  {
   "cell_type": "code",
   "execution_count": 63,
   "id": "8a13e023",
   "metadata": {},
   "outputs": [
    {
     "data": {
      "text/plain": [
       "0    102.0\n",
       "1    105.5\n",
       "2     25.0\n",
       "Name: price, dtype: float64"
      ]
     },
     "execution_count": 63,
     "metadata": {},
     "output_type": "execute_result"
    }
   ],
   "source": [
    "y = df12.price\n",
    "y.head(3)"
   ]
  },
  {
   "cell_type": "code",
   "execution_count": 64,
   "id": "03d60034",
   "metadata": {},
   "outputs": [
    {
     "data": {
      "text/plain": [
       "179"
      ]
     },
     "execution_count": 64,
     "metadata": {},
     "output_type": "execute_result"
    }
   ],
   "source": [
    "len(y)"
   ]
  },
  {
   "cell_type": "code",
   "execution_count": 65,
   "id": "15321108",
   "metadata": {},
   "outputs": [],
   "source": [
    "X_train, X_test,y_train,y_test = train_test_split(X,y,test_size=0.2, random_state=2)"
   ]
  },
  {
   "cell_type": "code",
   "execution_count": 66,
   "id": "bf09318d",
   "metadata": {
    "scrolled": true
   },
   "outputs": [],
   "source": [
    "linear_model= LinearRegression()"
   ]
  },
  {
   "cell_type": "code",
   "execution_count": 68,
   "id": "40fbd760",
   "metadata": {},
   "outputs": [
    {
     "data": {
      "text/html": [
       "<style>#sk-container-id-1 {color: black;background-color: white;}#sk-container-id-1 pre{padding: 0;}#sk-container-id-1 div.sk-toggleable {background-color: white;}#sk-container-id-1 label.sk-toggleable__label {cursor: pointer;display: block;width: 100%;margin-bottom: 0;padding: 0.3em;box-sizing: border-box;text-align: center;}#sk-container-id-1 label.sk-toggleable__label-arrow:before {content: \"▸\";float: left;margin-right: 0.25em;color: #696969;}#sk-container-id-1 label.sk-toggleable__label-arrow:hover:before {color: black;}#sk-container-id-1 div.sk-estimator:hover label.sk-toggleable__label-arrow:before {color: black;}#sk-container-id-1 div.sk-toggleable__content {max-height: 0;max-width: 0;overflow: hidden;text-align: left;background-color: #f0f8ff;}#sk-container-id-1 div.sk-toggleable__content pre {margin: 0.2em;color: black;border-radius: 0.25em;background-color: #f0f8ff;}#sk-container-id-1 input.sk-toggleable__control:checked~div.sk-toggleable__content {max-height: 200px;max-width: 100%;overflow: auto;}#sk-container-id-1 input.sk-toggleable__control:checked~label.sk-toggleable__label-arrow:before {content: \"▾\";}#sk-container-id-1 div.sk-estimator input.sk-toggleable__control:checked~label.sk-toggleable__label {background-color: #d4ebff;}#sk-container-id-1 div.sk-label input.sk-toggleable__control:checked~label.sk-toggleable__label {background-color: #d4ebff;}#sk-container-id-1 input.sk-hidden--visually {border: 0;clip: rect(1px 1px 1px 1px);clip: rect(1px, 1px, 1px, 1px);height: 1px;margin: -1px;overflow: hidden;padding: 0;position: absolute;width: 1px;}#sk-container-id-1 div.sk-estimator {font-family: monospace;background-color: #f0f8ff;border: 1px dotted black;border-radius: 0.25em;box-sizing: border-box;margin-bottom: 0.5em;}#sk-container-id-1 div.sk-estimator:hover {background-color: #d4ebff;}#sk-container-id-1 div.sk-parallel-item::after {content: \"\";width: 100%;border-bottom: 1px solid gray;flex-grow: 1;}#sk-container-id-1 div.sk-label:hover label.sk-toggleable__label {background-color: #d4ebff;}#sk-container-id-1 div.sk-serial::before {content: \"\";position: absolute;border-left: 1px solid gray;box-sizing: border-box;top: 0;bottom: 0;left: 50%;z-index: 0;}#sk-container-id-1 div.sk-serial {display: flex;flex-direction: column;align-items: center;background-color: white;padding-right: 0.2em;padding-left: 0.2em;position: relative;}#sk-container-id-1 div.sk-item {position: relative;z-index: 1;}#sk-container-id-1 div.sk-parallel {display: flex;align-items: stretch;justify-content: center;background-color: white;position: relative;}#sk-container-id-1 div.sk-item::before, #sk-container-id-1 div.sk-parallel-item::before {content: \"\";position: absolute;border-left: 1px solid gray;box-sizing: border-box;top: 0;bottom: 0;left: 50%;z-index: -1;}#sk-container-id-1 div.sk-parallel-item {display: flex;flex-direction: column;z-index: 1;position: relative;background-color: white;}#sk-container-id-1 div.sk-parallel-item:first-child::after {align-self: flex-end;width: 50%;}#sk-container-id-1 div.sk-parallel-item:last-child::after {align-self: flex-start;width: 50%;}#sk-container-id-1 div.sk-parallel-item:only-child::after {width: 0;}#sk-container-id-1 div.sk-dashed-wrapped {border: 1px dashed gray;margin: 0 0.4em 0.5em 0.4em;box-sizing: border-box;padding-bottom: 0.4em;background-color: white;}#sk-container-id-1 div.sk-label label {font-family: monospace;font-weight: bold;display: inline-block;line-height: 1.2em;}#sk-container-id-1 div.sk-label-container {text-align: center;}#sk-container-id-1 div.sk-container {/* jupyter's `normalize.less` sets `[hidden] { display: none; }` but bootstrap.min.css set `[hidden] { display: none !important; }` so we also need the `!important` here to be able to override the default hidden behavior on the sphinx rendered scikit-learn.org. See: https://github.com/scikit-learn/scikit-learn/issues/21755 */display: inline-block !important;position: relative;}#sk-container-id-1 div.sk-text-repr-fallback {display: none;}</style><div id=\"sk-container-id-1\" class=\"sk-top-container\"><div class=\"sk-text-repr-fallback\"><pre>LinearRegression()</pre><b>In a Jupyter environment, please rerun this cell to show the HTML representation or trust the notebook. <br />On GitHub, the HTML representation is unable to render, please try loading this page with nbviewer.org.</b></div><div class=\"sk-container\" hidden><div class=\"sk-item\"><div class=\"sk-estimator sk-toggleable\"><input class=\"sk-toggleable__control sk-hidden--visually\" id=\"sk-estimator-id-1\" type=\"checkbox\" checked><label for=\"sk-estimator-id-1\" class=\"sk-toggleable__label sk-toggleable__label-arrow\">LinearRegression</label><div class=\"sk-toggleable__content\"><pre>LinearRegression()</pre></div></div></div></div></div>"
      ],
      "text/plain": [
       "LinearRegression()"
      ]
     },
     "execution_count": 68,
     "metadata": {},
     "output_type": "execute_result"
    }
   ],
   "source": [
    "linear_model.fit(X_train,y_train)"
   ]
  },
  {
   "cell_type": "code",
   "execution_count": 69,
   "id": "984cb07f",
   "metadata": {},
   "outputs": [],
   "source": [
    "training_data_prediction = linear_model.predict(X_train)"
   ]
  },
  {
   "cell_type": "code",
   "execution_count": 85,
   "id": "882df554",
   "metadata": {},
   "outputs": [],
   "source": [
    "from sklearn.model_selection import train_test_split\n",
    "X_train, X_test, y_train, y_test = train_test_split(X,y,test_size=0.2,random_state=10)"
   ]
  },
  {
   "cell_type": "code",
   "execution_count": 86,
   "id": "773dd17f",
   "metadata": {},
   "outputs": [
    {
     "data": {
      "text/plain": [
       "0.7915632206105848"
      ]
     },
     "execution_count": 86,
     "metadata": {},
     "output_type": "execute_result"
    }
   ],
   "source": [
    "from sklearn.linear_model import LinearRegression\n",
    "lr_clf = LinearRegression()\n",
    "lr_clf.fit(X_train,y_train)\n",
    "lr_clf.score(X_test,y_test)"
   ]
  },
  {
   "cell_type": "code",
   "execution_count": 87,
   "id": "19feae9c",
   "metadata": {},
   "outputs": [
    {
     "data": {
      "text/plain": [
       "array([0.88109087, 0.81019575, 0.90881106, 0.90126379, 0.81103231])"
      ]
     },
     "execution_count": 87,
     "metadata": {},
     "output_type": "execute_result"
    }
   ],
   "source": [
    "from sklearn.model_selection import ShuffleSplit\n",
    "from sklearn.model_selection import cross_val_score\n",
    "\n",
    "cv = ShuffleSplit(n_splits=5, test_size=0.2, random_state=0)\n",
    "\n",
    "cross_val_score(LinearRegression(), X, y, cv=cv)"
   ]
  },
  {
   "cell_type": "code",
   "execution_count": 88,
   "id": "5d4a878c",
   "metadata": {},
   "outputs": [
    {
     "data": {
      "text/plain": [
       "Index(['Baths', 'total_sqft', 'bhk', 'Bibwewadi', 'Dhankawadi', 'Hadapsar',\n",
       "       'Karve Nagar', 'Katraj', 'Koregaon Park', 'Sinhgad Road'],\n",
       "      dtype='object')"
      ]
     },
     "execution_count": 88,
     "metadata": {},
     "output_type": "execute_result"
    }
   ],
   "source": [
    "X.columns"
   ]
  },
  {
   "cell_type": "code",
   "execution_count": 89,
   "id": "ab8dec18",
   "metadata": {},
   "outputs": [
    {
     "data": {
      "text/plain": [
       "3"
      ]
     },
     "execution_count": 89,
     "metadata": {},
     "output_type": "execute_result"
    }
   ],
   "source": [
    "np.where(X.columns==\"Bibwewadi\")[0][0]"
   ]
  },
  {
   "cell_type": "code",
   "execution_count": 90,
   "id": "5d2b7ee5",
   "metadata": {},
   "outputs": [],
   "source": [
    "def predict_price(location,total_sqft,Baths,bhk):    \n",
    "    loc_index = np.where(X.columns==location)[0][0]\n",
    "\n",
    "    x = np.zeros(len(X.columns))\n",
    "    x[0] = total_sqft\n",
    "    x[1] = Baths\n",
    "    x[2] = bhk\n",
    "    if loc_index >= 0:\n",
    "        x[loc_index] = 1\n",
    "\n",
    "    return lr_clf.predict([x])[0]"
   ]
  },
  {
   "cell_type": "code",
   "execution_count": 91,
   "id": "3d1e0938",
   "metadata": {},
   "outputs": [
    {
     "name": "stderr",
     "output_type": "stream",
     "text": [
      "C:\\Python310\\lib\\site-packages\\sklearn\\base.py:420: UserWarning: X does not have valid feature names, but LinearRegression was fitted with feature names\n",
      "  warnings.warn(\n"
     ]
    },
    {
     "data": {
      "text/plain": [
       "45072.63551968104"
      ]
     },
     "execution_count": 91,
     "metadata": {},
     "output_type": "execute_result"
    }
   ],
   "source": [
    "predict_price('Bibwewadi',1050, 2, 2)"
   ]
  }
 ],
 "metadata": {
  "kernelspec": {
   "display_name": "Python 3 (ipykernel)",
   "language": "python",
   "name": "python3"
  },
  "language_info": {
   "codemirror_mode": {
    "name": "ipython",
    "version": 3
   },
   "file_extension": ".py",
   "mimetype": "text/x-python",
   "name": "python",
   "nbconvert_exporter": "python",
   "pygments_lexer": "ipython3",
   "version": "3.10.6"
  }
 },
 "nbformat": 4,
 "nbformat_minor": 5
}
